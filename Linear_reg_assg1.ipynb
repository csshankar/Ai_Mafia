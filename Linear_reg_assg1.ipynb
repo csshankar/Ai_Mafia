{
 "cells": [
  {
   "cell_type": "code",
   "execution_count": 1,
   "metadata": {},
   "outputs": [],
   "source": [
    "#importing libraries\n",
    "import numpy as np\n",
    "import matplotlib.pyplot as plt\n",
    "import pandas as pd"
   ]
  },
  {
   "cell_type": "code",
   "execution_count": 29,
   "metadata": {},
   "outputs": [
    {
     "name": "stdout",
     "output_type": "stream",
     "text": [
      "(3750, 1) (1250, 1)\n",
      "x [[-0.28930742]\n",
      " [-0.58880963]\n",
      " [ 1.02750749]\n",
      " ...\n",
      " [-0.30516366]\n",
      " [ 1.67583291]\n",
      " [-0.49175724]]\n",
      "test [[-1.87794441]\n",
      " [-0.86903192]\n",
      " [-2.53018242]\n",
      " ...\n",
      " [ 0.12800782]\n",
      " [-0.27803759]\n",
      " [-0.68042543]]\n"
     ]
    }
   ],
   "source": [
    "#reading data\n",
    "\n",
    "dfx = pd.read_csv('./Week 2 Linear and Logistic Regression/Linear Regression\\Assignment 1/Training Data/Linear_X_Train.csv')\n",
    "dfy = pd.read_csv('./Week 2 Linear and Logistic Regression/Linear Regression\\Assignment 1/Training Data/Linear_Y_Train.csv')\n",
    "testx = pd.read_csv('./Week 2 Linear and Logistic Regression/Linear Regression/Assignment 1/Testing Data/Linear_X_Test.csv')\n",
    "#print(dfx.head())\n",
    "dfx = dfx.values\n",
    "dfy = dfy.values\n",
    "testx = testx.values\n",
    "\n",
    "x= dfx.reshape(-1,1)\n",
    "y= dfy.reshape(-1,1)\n",
    "test = testx.reshape(-1,1)\n",
    "print(x.shape,test.shape)\n",
    "#print(x)\n",
    "print('x',x)\n",
    "print('test',test)\n"
   ]
  },
  {
   "cell_type": "code",
   "execution_count": 3,
   "metadata": {},
   "outputs": [
    {
     "data": {
      "image/png": "[encoded data removed]",
      "text/plain": [
       "<Figure size 432x288 with 1 Axes>"
      ]
     },
     "metadata": {
      "needs_background": "light"
     },
     "output_type": "display_data"
    }
   ],
   "source": [
    "#representing data\n",
    "plt.scatter(x,y)\n",
    "X = (x-x.mean())/x.std()\n",
    "Y = y\n",
    "plt.scatter(X,Y)\n",
    "plt.show()"
   ]
  },
  {
   "cell_type": "code",
   "execution_count": 4,
   "metadata": {},
   "outputs": [
    {
     "name": "stdout",
     "output_type": "stream",
     "text": [
      "x [[-0.28930742]\n",
      " [-0.58880963]\n",
      " [ 1.02750749]\n",
      " ...\n",
      " [-0.30516366]\n",
      " [ 1.67583291]\n",
      " [-0.49175724]]\n",
      "y [[-9.11011171e-02]\n",
      " [-5.34677208e+01]\n",
      " [ 7.54570088e+01]\n",
      " ...\n",
      " [-3.49832749e+01]\n",
      " [ 1.45206092e+02]\n",
      " [-1.71244939e+01]]\n",
      "m [[  3.08123572]\n",
      " [ 98.27607732]\n",
      " [ 70.18960739]\n",
      " ...\n",
      " [133.40044876]\n",
      " [ 84.33700853]\n",
      " [ 39.22870256]]\n",
      "c [[0.80032323]\n",
      " [4.39818006]\n",
      " [3.33666143]\n",
      " ...\n",
      " [5.7256938 ]\n",
      " [3.87135767]\n",
      " [2.16650451]]\n"
     ]
    }
   ],
   "source": [
    "#finding value of m\n",
    "'''\n",
    "y= mx + c\n",
    "Here\n",
    "y = mean of y\n",
    "x = mean of x\n",
    "c = constant\n",
    "m = slope\n",
    "'''\n",
    "mean_x = np.mean(x)\n",
    "print('x',x)\n",
    "mean_y = np.mean(y)\n",
    "print('y',y)\n",
    "s=len(x)\n",
    "num =0\n",
    "den = 0\n",
    "for i in range(s):\n",
    "    num += (x-mean_x)* (y -mean_y)\n",
    "    den += (x-mean_x)**2\n",
    "m = num/den\n",
    "print('m',m)\n",
    "c = mean_y - (m*mean_x)\n",
    "print('c',c)\n",
    "\n",
    "\n"
   ]
  },
  {
   "cell_type": "code",
   "execution_count": 5,
   "metadata": {},
   "outputs": [
    {
     "name": "stdout",
     "output_type": "stream",
     "text": [
      "[[0.9271318 ]\n",
      " [0.07610147]\n",
      " [0.04508445]\n",
      " ...\n",
      " [0.44719781]\n",
      " [0.03119251]\n",
      " [0.28451677]]\n"
     ]
    }
   ],
   "source": [
    "# finding the accuracy of linear regression model on given data\n",
    "'''we will use root square method\n",
    "    in this we are supposed to find\n",
    "r = 1- summation of((y[i]-mean_y)**2)/summation of((y[i]-y_pred)**2)\n",
    "y_pred = m *x[i]+c\n",
    "'''\n",
    "sum_ysq =0\n",
    "sum_pysq = 0\n",
    "\n",
    "for i in range(s):\n",
    "    y_pred = m * x[i] + c\n",
    "    sum_ysq += (y[i]-mean_y)**2\n",
    "    sum_pysq += (y[i]-y_pred)**2\n",
    "r2 = sum_pysq/sum_ysq\n",
    "print(r2)"
   ]
  },
  {
   "cell_type": "code",
   "execution_count": 6,
   "metadata": {},
   "outputs": [],
   "source": [
    "from sklearn.linear_model import LinearRegression\n"
   ]
  },
  {
   "cell_type": "code",
   "execution_count": 7,
   "metadata": {},
   "outputs": [],
   "source": [
    "model = LinearRegression()"
   ]
  },
  {
   "cell_type": "code",
   "execution_count": 8,
   "metadata": {},
   "outputs": [
    {
     "data": {
      "text/plain": [
       "LinearRegression()"
      ]
     },
     "execution_count": 8,
     "metadata": {},
     "output_type": "execute_result"
    }
   ],
   "source": [
    "# Training\n",
    "\n",
    "model.fit(x,y)"
   ]
  },
  {
   "cell_type": "code",
   "execution_count": 31,
   "metadata": {},
   "outputs": [
    {
     "name": "stdout",
     "output_type": "stream",
     "text": [
      "[[-19.57388181]\n",
      " [-43.69687794]\n",
      " [ 86.48717332]\n",
      " ...\n",
      " [-20.85100092]\n",
      " [138.7056574 ]\n",
      " [-35.87992564]]\n"
     ]
    }
   ],
   "source": [
    "# Prediction\n",
    "output = model.predict(x)\n",
    "print(output)"
   ]
  },
  {
   "cell_type": "code",
   "execution_count": 10,
   "metadata": {},
   "outputs": [
    {
     "name": "stdout",
     "output_type": "stream",
     "text": [
      "[3.72798828]\n",
      "[[80.54363185]]\n"
     ]
    }
   ],
   "source": [
    "bias = model.intercept_\n",
    "coeff = model.coef_\n",
    "\n",
    "print(bias)\n",
    "print(coeff)"
   ]
  },
  {
   "cell_type": "code",
   "execution_count": 11,
   "metadata": {},
   "outputs": [
    {
     "data": {
      "text/plain": [
       "0.9709612233822353"
      ]
     },
     "execution_count": 11,
     "metadata": {},
     "output_type": "execute_result"
    }
   ],
   "source": [
    "model.score(x,y)"
   ]
  },
  {
   "cell_type": "code",
   "execution_count": 12,
   "metadata": {},
   "outputs": [
    {
     "data": {
      "image/png": "[encoded data removed]",
      "text/plain": [
       "<Figure size 432x288 with 1 Axes>"
      ]
     },
     "metadata": {
      "needs_background": "light"
     },
     "output_type": "display_data"
    }
   ],
   "source": [
    "# Visualise\n",
    "\n",
    "plt.scatter(x,y,label = 'data')\n",
    "plt.plot(x,output,color = 'black', label = 'prediciton')\n",
    "plt.legend()\n",
    "plt.show()"
   ]
  },
  {
   "cell_type": "code",
   "execution_count": 30,
   "metadata": {},
   "outputs": [
    {
     "name": "stdout",
     "output_type": "stream",
     "text": [
      "[3.72798828]\n",
      "[[80.54363185]]\n"
     ]
    }
   ],
   "source": [
    "bias = model.intercept_\n",
    "coeff = model.coef_\n",
    "\n",
    "print(bias)\n",
    "print(coeff)"
   ]
  },
  {
   "cell_type": "code",
   "execution_count": 13,
   "metadata": {},
   "outputs": [],
   "source": [
    "#predicting the values in test cases "
   ]
  },
  {
   "cell_type": "code",
   "execution_count": 28,
   "metadata": {},
   "outputs": [
    {
     "data": {
      "text/plain": [
       "array([[-147.52847525],\n",
       "       [ -66.26699842],\n",
       "       [-200.06209345],\n",
       "       ...,\n",
       "       [  14.0382031 ],\n",
       "       [ -18.66616899],\n",
       "       [ -51.07594693]])"
      ]
     },
     "execution_count": 28,
     "metadata": {},
     "output_type": "execute_result"
    }
   ],
   "source": [
    "output=model.predict(test)"
   ]
  }
 ],
 "metadata": {
  "kernelspec": {
   "display_name": "Python 3",
   "language": "python",
   "name": "python3"
  },
  "language_info": {
   "codemirror_mode": {
    "name": "ipython",
    "version": 3
   },
   "file_extension": ".py",
   "mimetype": "text/x-python",
   "name": "python",
   "nbconvert_exporter": "python",
   "pygments_lexer": "ipython3",
   "version": "3.8.5"
  }
 },
 "nbformat": 4,
 "nbformat_minor": 4
}
