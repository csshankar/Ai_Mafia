{
  "nbformat": 4,
  "nbformat_minor": 0,
  "metadata": {
    "kernelspec": {
      "display_name": "Python 3",
      "language": "python",
      "name": "python3"
    },
    "language_info": {
      "codemirror_mode": {
        "name": "ipython",
        "version": 3
      },
      "file_extension": ".py",
      "mimetype": "text/x-python",
      "name": "python",
      "nbconvert_exporter": "python",
      "pygments_lexer": "ipython3",
      "version": "3.7.3"
    },
    "colab": {
      "name": "Copy of Numpy_Exercise.ipynb",
      "provenance": [],
      "collapsed_sections": []
    }
  },
  "cells": [
    {
      "cell_type": "markdown",
      "metadata": {
        "id": "MTYQx8q0Gjj9"
      },
      "source": [
        "# Numpy Exercise"
      ]
    },
    {
      "cell_type": "markdown",
      "metadata": {
        "id": "QGNZcw3YGjkF"
      },
      "source": [
        "#### 1. Import the numpy package under the name as np  "
      ]
    },
    {
      "cell_type": "code",
      "metadata": {
        "collapsed": true,
        "id": "gpUjI4T5GjkG"
      },
      "source": [
        "import numpy as np"
      ],
      "execution_count": null,
      "outputs": []
    },
    {
      "cell_type": "markdown",
      "metadata": {
        "id": "gZZqclu5GjkH"
      },
      "source": [
        "#### 2. Print the numpy version and the configuration "
      ]
    },
    {
      "cell_type": "code",
      "metadata": {
        "id": "ECA_qQACGjkH",
        "colab": {
          "base_uri": "https://localhost:8080/",
          "height": 35
        },
        "outputId": "b058765e-516c-4b86-9a35-49878a64868c"
      },
      "source": [
        "np.__version__"
      ],
      "execution_count": null,
      "outputs": [
        {
          "output_type": "execute_result",
          "data": {
            "application/vnd.google.colaboratory.intrinsic+json": {
              "type": "string"
            },
            "text/plain": [
              "'1.19.5'"
            ]
          },
          "metadata": {
            "tags": []
          },
          "execution_count": 2
        }
      ]
    },
    {
      "cell_type": "markdown",
      "metadata": {
        "id": "gE5ETcp_GjkI"
      },
      "source": [
        "#### 3. Create a null vector of size 10"
      ]
    },
    {
      "cell_type": "code",
      "metadata": {
        "id": "dcEpsL8FGjkI",
        "colab": {
          "base_uri": "https://localhost:8080/"
        },
        "outputId": "c1ae0ce6-d64d-4a79-97f4-d1433a54cf7c"
      },
      "source": [
        "def nullvector(n):\n",
        "  a= np.zeros(n)\n",
        "  print(a)\n",
        "nullvector(10)"
      ],
      "execution_count": null,
      "outputs": [
        {
          "output_type": "stream",
          "text": [
            "[0. 0. 0. 0. 0. 0. 0. 0. 0. 0.]\n"
          ],
          "name": "stdout"
        }
      ]
    },
    {
      "cell_type": "markdown",
      "metadata": {
        "id": "Yk5sHOEyGjkI"
      },
      "source": [
        "#### 4.  How to find the memory size of any array"
      ]
    },
    {
      "cell_type": "code",
      "metadata": {
        "id": "69egK33nGjkJ",
        "colab": {
          "base_uri": "https://localhost:8080/"
        },
        "outputId": "c248fd28-5fd4-4aa6-9086-c9ad6a448534"
      },
      "source": [
        "import numpy as np\n",
        "a = np.zeros(10)\n",
        "print(a.size *a.itemsize)"
      ],
      "execution_count": null,
      "outputs": [
        {
          "output_type": "stream",
          "text": [
            "80\n"
          ],
          "name": "stdout"
        }
      ]
    },
    {
      "cell_type": "markdown",
      "metadata": {
        "id": "nKkxQlFfGjkJ"
      },
      "source": [
        "#### 5.  How to get the documentation of the numpy add function from the command line? "
      ]
    },
    {
      "cell_type": "code",
      "metadata": {
        "collapsed": true,
        "id": "dr0Vk18EGjkJ"
      },
      "source": [
        "np.add?"
      ],
      "execution_count": null,
      "outputs": []
    },
    {
      "cell_type": "markdown",
      "metadata": {
        "id": "fLPM1KC9GjkK"
      },
      "source": [
        "#### 6.  Create a null vector of size 10 but the fifth value which is 1"
      ]
    },
    {
      "cell_type": "code",
      "metadata": {
        "id": "rIj5DiToGjkK",
        "colab": {
          "base_uri": "https://localhost:8080/"
        },
        "outputId": "19a59647-7818-4ec5-ed4f-39085965a6f5"
      },
      "source": [
        "def nullvector(n):\n",
        "  a= np.zeros(n)\n",
        "  a[4]=1\n",
        "  print(a)\n",
        "nullvector(10)"
      ],
      "execution_count": null,
      "outputs": [
        {
          "output_type": "stream",
          "text": [
            "[0. 0. 0. 0. 1. 0. 0. 0. 0. 0.]\n"
          ],
          "name": "stdout"
        }
      ]
    },
    {
      "cell_type": "markdown",
      "metadata": {
        "id": "gZYr_esLGjkK"
      },
      "source": [
        "#### 7.  Create a vector with values ranging from 10 to 49"
      ]
    },
    {
      "cell_type": "code",
      "metadata": {
        "id": "QVIAwKznGjkL",
        "colab": {
          "base_uri": "https://localhost:8080/"
        },
        "outputId": "f786a0f4-d0a6-4c3d-d25f-1108526ab042"
      },
      "source": [
        "def randomgen():\n",
        "  a= 10 + np.random.random()*39\n",
        "  print(a)\n",
        "randomgen()"
      ],
      "execution_count": null,
      "outputs": [
        {
          "output_type": "stream",
          "text": [
            "19.71643739680392\n"
          ],
          "name": "stdout"
        }
      ]
    },
    {
      "cell_type": "markdown",
      "metadata": {
        "id": "rOEybGRZGjkL"
      },
      "source": [
        "#### 8.  Reverse a vector (first element becomes last)"
      ]
    },
    {
      "cell_type": "code",
      "metadata": {
        "id": "bkDAx-SNGjkM",
        "colab": {
          "base_uri": "https://localhost:8080/"
        },
        "outputId": "11162348-91ed-4b76-df4f-b5b81e7cc9ad"
      },
      "source": [
        "a = np.arange(10,50)\n",
        "a= a[::-1]\n",
        "print (a)"
      ],
      "execution_count": 65,
      "outputs": [
        {
          "output_type": "stream",
          "text": [
            "[49 48 47 46 45 44 43 42 41 40 39 38 37 36 35 34 33 32 31 30 29 28 27 26\n",
            " 25 24 23 22 21 20 19 18 17 16 15 14 13 12 11 10]\n"
          ],
          "name": "stdout"
        }
      ]
    },
    {
      "cell_type": "markdown",
      "metadata": {
        "id": "XqN3gXJXGjkM"
      },
      "source": [
        "#### 9.  Create a 3x3 matrix with values ranging from 0 to 8"
      ]
    },
    {
      "cell_type": "code",
      "metadata": {
        "id": "4JHU6jNJGjkM",
        "colab": {
          "base_uri": "https://localhost:8080/"
        },
        "outputId": "4dfae62d-66a5-4116-b416-5c3073d7fce5"
      },
      "source": [
        "import numpy as np\n",
        "a= np.empty((3, 3), int)\n",
        "for i in range(0,3):\n",
        "  for j in range(0,3):\n",
        "    a[i][j]= np.random.random()*9\n",
        "print(a)"
      ],
      "execution_count": null,
      "outputs": [
        {
          "output_type": "stream",
          "text": [
            "[[2 8 6]\n",
            " [2 6 7]\n",
            " [2 1 1]]\n"
          ],
          "name": "stdout"
        }
      ]
    },
    {
      "cell_type": "markdown",
      "metadata": {
        "id": "mNLsmpUwGjkN"
      },
      "source": [
        "#### 10. Find indices of non-zero elements from \\[1,2,0,0,4,0\\]"
      ]
    },
    {
      "cell_type": "code",
      "metadata": {
        "id": "oUhyrwEbGjkN",
        "colab": {
          "base_uri": "https://localhost:8080/"
        },
        "outputId": "e88fd24f-da96-4274-ccf6-f876a62b1073"
      },
      "source": [
        "a=[1,2,0,0,4,0]\n",
        "for i in range(0,6):\n",
        "  if a[i]>0:\n",
        "    print(i)"
      ],
      "execution_count": null,
      "outputs": [
        {
          "output_type": "stream",
          "text": [
            "0\n",
            "1\n",
            "4\n"
          ],
          "name": "stdout"
        }
      ]
    },
    {
      "cell_type": "markdown",
      "metadata": {
        "id": "EocvRQbWGjkN"
      },
      "source": [
        "#### 11. Create a 3x3 identity matrix"
      ]
    },
    {
      "cell_type": "code",
      "metadata": {
        "id": "90rXSCZkGjkN",
        "colab": {
          "base_uri": "https://localhost:8080/"
        },
        "outputId": "6b1c8c07-f397-4e1d-99cd-b12ba279f8f9"
      },
      "source": [
        "a= np.identity(3, dtype=int)\n",
        "print(a)\n",
        "    "
      ],
      "execution_count": null,
      "outputs": [
        {
          "output_type": "stream",
          "text": [
            "[[1 0 0]\n",
            " [0 1 0]\n",
            " [0 0 1]]\n"
          ],
          "name": "stdout"
        }
      ]
    },
    {
      "cell_type": "markdown",
      "metadata": {
        "id": "ybs_5x3lGjkO"
      },
      "source": [
        "#### 12. Create a 3x3x3 array with random values"
      ]
    },
    {
      "cell_type": "code",
      "metadata": {
        "collapsed": true,
        "id": "FQs00TkeGjkO",
        "colab": {
          "base_uri": "https://localhost:8080/"
        },
        "outputId": "dffc7902-9630-4d1b-d242-f705623bf0ba"
      },
      "source": [
        "a = np.empty((3,3,3),int)\n",
        "for i in range(0,3):\n",
        "  for j in range(0,3):\n",
        "    for k in range(0,3):\n",
        "      a[i][j][k]= np.random.random()*90\n",
        "print(a)"
      ],
      "execution_count": 18,
      "outputs": [
        {
          "output_type": "stream",
          "text": [
            "[[[78 50 10]\n",
            "  [10 44 23]\n",
            "  [19 40 88]]\n",
            "\n",
            " [[21 27 77]\n",
            "  [78 62 38]\n",
            "  [ 1 22 82]]\n",
            "\n",
            " [[21 53 63]\n",
            "  [ 4 43  4]\n",
            "  [68 27 30]]]\n"
          ],
          "name": "stdout"
        }
      ]
    },
    {
      "cell_type": "markdown",
      "metadata": {
        "id": "QurIiAyDGjkO"
      },
      "source": [
        "#### 13. Create a 10x10 array with random values and find the minimum and maximum values"
      ]
    },
    {
      "cell_type": "code",
      "metadata": {
        "id": "GrAOpEYxGjkO",
        "colab": {
          "base_uri": "https://localhost:8080/"
        },
        "outputId": "360d32f5-d6e9-4dac-f6da-26d28e84bf9c"
      },
      "source": [
        "a= np.empty((10,10),int)\n",
        "for i in range(0,10):\n",
        "  for j in range(0,10):\n",
        "    a[i][j]=10 + np.random.random()*90\n",
        "print(a)\n",
        "print(a.max())\n",
        "print(a.min())"
      ],
      "execution_count": 26,
      "outputs": [
        {
          "output_type": "stream",
          "text": [
            "[[20 34 66 51 26 31 12 48 61 86]\n",
            " [90 92 97 59 61 11 72 63 93 73]\n",
            " [44 52 42 34 86 62 68 43 33 16]\n",
            " [46 74 26 27 28 61 27 55 92 60]\n",
            " [83 35 68 26 98 51 73 34 44 14]\n",
            " [74 85 33 82 28 13 96 17 53 69]\n",
            " [50 85 91 31 57 14 43 53 55 95]\n",
            " [63 71 80 15 38 94 60 85 32 68]\n",
            " [57 32 98 17 81 38 78 90 54 42]\n",
            " [41 41 98 76 41 93 27 42 76 57]]\n",
            "98\n",
            "11\n"
          ],
          "name": "stdout"
        }
      ]
    },
    {
      "cell_type": "markdown",
      "metadata": {
        "id": "vSFoVrM4GjkP"
      },
      "source": [
        "#### 14. Create a random vector of size 30 and find the mean value"
      ]
    },
    {
      "cell_type": "code",
      "metadata": {
        "id": "bKMXhIHtGjkP",
        "colab": {
          "base_uri": "https://localhost:8080/"
        },
        "outputId": "6db38206-c4a0-4e82-db27-a5fc42c3bb27"
      },
      "source": [
        "a=np.random.random(30)\n",
        "print(a.mean())"
      ],
      "execution_count": 33,
      "outputs": [
        {
          "output_type": "stream",
          "text": [
            "0.44994961435778286\n"
          ],
          "name": "stdout"
        }
      ]
    },
    {
      "cell_type": "markdown",
      "metadata": {
        "id": "ezx6GyRNGjkQ"
      },
      "source": [
        "#### 15. Create a 2d array with 1 on the border and 0 inside"
      ]
    },
    {
      "cell_type": "code",
      "metadata": {
        "id": "LCvfjgYTGjkQ",
        "colab": {
          "base_uri": "https://localhost:8080/"
        },
        "outputId": "b9de2fa2-ae13-497c-b799-54385eaeea63"
      },
      "source": [
        "a=np.zeros((5,5),int)\n",
        "for i in range(0,5):\n",
        "  for j in range(0,5):\n",
        "    if i==0 or i==4 or j==0 or j==4:\n",
        "      a[i][j]=1 \n",
        "print(a)"
      ],
      "execution_count": 40,
      "outputs": [
        {
          "output_type": "stream",
          "text": [
            "[[1 1 1 1 1]\n",
            " [1 0 0 0 1]\n",
            " [1 0 0 0 1]\n",
            " [1 0 0 0 1]\n",
            " [1 1 1 1 1]]\n"
          ],
          "name": "stdout"
        }
      ]
    },
    {
      "cell_type": "markdown",
      "metadata": {
        "id": "JkzFmfRVGjkR"
      },
      "source": [
        "\n",
        "\n",
        "```\n",
        "# This is formatted as code\n",
        "```\n",
        "\n",
        "#### 16. How to add a border (filled with 0's) around an existing array?"
      ]
    },
    {
      "cell_type": "code",
      "metadata": {
        "id": "ASSnZkwKGjkR",
        "colab": {
          "base_uri": "https://localhost:8080/"
        },
        "outputId": "3ad01ca8-f923-497c-e294-e867b65c98ed"
      },
      "source": [
        "a=np.zeros((5,5),int)\n",
        "for i in range(0,5):\n",
        "  for j in range(0,5):\n",
        "    if i==0 or i==4 or j==0 or j==4:\n",
        "      a[i][j]=1 \n",
        "a = np.pad(a, pad_width=1, mode='constant', constant_values=0)\n",
        "print(a)"
      ],
      "execution_count": 64,
      "outputs": [
        {
          "output_type": "stream",
          "text": [
            "[[0 0 0 0 0 0 0]\n",
            " [0 1 1 1 1 1 0]\n",
            " [0 1 0 0 0 1 0]\n",
            " [0 1 0 0 0 1 0]\n",
            " [0 1 0 0 0 1 0]\n",
            " [0 1 1 1 1 1 0]\n",
            " [0 0 0 0 0 0 0]]\n"
          ],
          "name": "stdout"
        }
      ]
    },
    {
      "cell_type": "markdown",
      "metadata": {
        "id": "m3OOU5hhGjkR"
      },
      "source": [
        "#### 17. What is the result of the following expression?"
      ]
    },
    {
      "cell_type": "markdown",
      "metadata": {
        "id": "MOu6h1-KGjkS"
      },
      "source": [
        "```python\n",
        "0 * np.nan\n",
        "np.nan == np.nan\n",
        "np.inf > np.nan\n",
        "np.nan - np.nan\n",
        "np.nan in set([np.nan])\n",
        "0.3 == 3 * 0.1\n",
        "```"
      ]
    },
    {
      "cell_type": "code",
      "metadata": {
        "id": "lvOfBJEDGjkS",
        "colab": {
          "base_uri": "https://localhost:8080/"
        },
        "outputId": "838e78da-665f-44bc-ad02-ea52f4b6105e"
      },
      "source": [
        "print(0 * np.nan)\n",
        "print(np.nan == np.nan)\n",
        "print(np.inf > np.nan)\n",
        "print(np.nan - np.nan)\n",
        "print(0.3 == 3 * 0.1)"
      ],
      "execution_count": 61,
      "outputs": [
        {
          "output_type": "stream",
          "text": [
            "nan\n",
            "False\n",
            "False\n",
            "nan\n",
            "False\n"
          ],
          "name": "stdout"
        }
      ]
    },
    {
      "cell_type": "markdown",
      "metadata": {
        "id": "I3byjDgfGjkS"
      },
      "source": [
        "#### 18. Create a 5x5 matrix with values 1,2,3,4 just below the diagonal"
      ]
    },
    {
      "cell_type": "code",
      "metadata": {
        "id": "Y5pTPv9hGjkT",
        "colab": {
          "base_uri": "https://localhost:8080/"
        },
        "outputId": "1c3b8dfb-b142-4949-90c1-cf56b3287f4b"
      },
      "source": [
        "a=np.zeros((5,5),int)\n",
        "k=1\n",
        "for i in range(0,5):\n",
        "  for j in range(0,5):\n",
        "    if i==j:\n",
        "      if k>4:\n",
        "        break\n",
        "      else:\n",
        "        a[i+1][j]=k\n",
        "        k=k+1\n",
        "print(a)"
      ],
      "execution_count": 43,
      "outputs": [
        {
          "output_type": "stream",
          "text": [
            "[[0 0 0 0 0]\n",
            " [1 0 0 0 0]\n",
            " [0 2 0 0 0]\n",
            " [0 0 3 0 0]\n",
            " [0 0 0 4 0]]\n"
          ],
          "name": "stdout"
        }
      ]
    },
    {
      "cell_type": "markdown",
      "metadata": {
        "id": "DxzMzKV3GjkT"
      },
      "source": [
        "#### 19. Create a 8x8 matrix and fill it with a checkerboard pattern\n",
        "\n",
        "---\n",
        "\n"
      ]
    },
    {
      "cell_type": "code",
      "metadata": {
        "id": "8-vv3PfDGjkT",
        "colab": {
          "base_uri": "https://localhost:8080/"
        },
        "outputId": "8e874e4a-87a4-4c8c-b80e-d109bec212f0"
      },
      "source": [
        "Z = np.zeros ((8,8), dtype=int)\n",
        "Z[1::2, ::2]= 1\n",
        "Z[::2, 1::2] = 1\n",
        "print (Z)\n"
      ],
      "execution_count": 60,
      "outputs": [
        {
          "output_type": "stream",
          "text": [
            "[[0 1 0 1 0 1 0 1]\n",
            " [1 0 1 0 1 0 1 0]\n",
            " [0 1 0 1 0 1 0 1]\n",
            " [1 0 1 0 1 0 1 0]\n",
            " [0 1 0 1 0 1 0 1]\n",
            " [1 0 1 0 1 0 1 0]\n",
            " [0 1 0 1 0 1 0 1]\n",
            " [1 0 1 0 1 0 1 0]]\n"
          ],
          "name": "stdout"
        }
      ]
    },
    {
      "cell_type": "markdown",
      "metadata": {
        "id": "8z3EY9x5GjkU"
      },
      "source": [
        "#### 20. Consider a (6,7,8) shape array, what is the index (x,y,z) of the 100th element?"
      ]
    },
    {
      "cell_type": "code",
      "metadata": {
        "id": "L-nHmvfKGjkU",
        "colab": {
          "base_uri": "https://localhost:8080/"
        },
        "outputId": "04f4a9bf-3a1d-4d42-9920-c783bf591153"
      },
      "source": [
        "print (np.unravel_index(100, (6,7,8)))"
      ],
      "execution_count": 57,
      "outputs": [
        {
          "output_type": "stream",
          "text": [
            "(1, 5, 4)\n"
          ],
          "name": "stdout"
        }
      ]
    }
  ]
}