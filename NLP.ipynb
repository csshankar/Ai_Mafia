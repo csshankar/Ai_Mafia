{
 "cells": [
  {
   "cell_type": "markdown",
   "metadata": {},
   "source": [
    "# NLP using nltk"
   ]
  },
  {
   "cell_type": "code",
   "execution_count": 1,
   "metadata": {},
   "outputs": [],
   "source": [
    "from nltk.corpus import brown"
   ]
  },
  {
   "cell_type": "markdown",
   "metadata": {},
   "source": [
    "# Data Collection"
   ]
  },
  {
   "cell_type": "code",
   "execution_count": 2,
   "metadata": {
    "scrolled": false
   },
   "outputs": [
    {
     "name": "stdout",
     "output_type": "stream",
     "text": [
      "['adventure', 'belles_lettres', 'editorial', 'fiction', 'government', 'hobbies', 'humor', 'learned', 'lore', 'mystery', 'news', 'religion', 'reviews', 'romance', 'science_fiction']\n"
     ]
    }
   ],
   "source": [
    "print(brown.categories())"
   ]
  },
  {
   "cell_type": "code",
   "execution_count": 3,
   "metadata": {},
   "outputs": [
    {
     "name": "stdout",
     "output_type": "stream",
     "text": [
      "<class 'nltk.corpus.reader.util.ConcatenatedCorpusView'> 2997\n",
      "[['Assembly', 'session', 'brought', 'much', 'good'], ['The', 'General', 'Assembly', ',', 'which', 'adjourns', 'today', ',', 'has', 'performed', 'in', 'an', 'atmosphere', 'of', 'crisis', 'and', 'struggle', 'from', 'the', 'day', 'it', 'convened', '.'], ...]\n"
     ]
    }
   ],
   "source": [
    "data = brown.sents(categories = 'editorial')\n",
    "print(type(data),len(data))\n",
    "print(data)"
   ]
  },
  {
   "cell_type": "markdown",
   "metadata": {},
   "source": [
    "# NLP pipeline\n",
    "#Data collection\n",
    "#Tokenisation,Stopward Removal,Stemmning\n",
    "#Building a common vocab\n",
    "#vectorise the documents\n",
    "#Performing Classification Clustering"
   ]
  },
  {
   "cell_type": "markdown",
   "metadata": {},
   "source": [
    "# Tokenisation and Stopward Removal"
   ]
  },
  {
   "cell_type": "code",
   "execution_count": 4,
   "metadata": {},
   "outputs": [],
   "source": [
    "text = \"It was a very good day until you showed up and ruined it. There were many people around were pleasant\""
   ]
  },
  {
   "cell_type": "code",
   "execution_count": 5,
   "metadata": {},
   "outputs": [],
   "source": [
    "from nltk.tokenize import sent_tokenize,word_tokenize"
   ]
  },
  {
   "cell_type": "code",
   "execution_count": 6,
   "metadata": {},
   "outputs": [],
   "source": [
    "sents = sent_tokenize(text)"
   ]
  },
  {
   "cell_type": "code",
   "execution_count": 7,
   "metadata": {},
   "outputs": [
    {
     "name": "stdout",
     "output_type": "stream",
     "text": [
      "['It was a very good day until you showed up and ruined it.', 'There were many people around were pleasant']\n"
     ]
    }
   ],
   "source": [
    "print(sents)"
   ]
  },
  {
   "cell_type": "code",
   "execution_count": 8,
   "metadata": {},
   "outputs": [
    {
     "name": "stdout",
     "output_type": "stream",
     "text": [
      "['it', 'was', 'a', 'very', 'good', 'day', 'until', 'you', 'showed', 'up', 'and', 'ruined', 'it', '.']\n"
     ]
    }
   ],
   "source": [
    "word_list = word_tokenize(sents[0].lower())\n",
    "print(word_list)"
   ]
  },
  {
   "cell_type": "markdown",
   "metadata": {},
   "source": [
    "# StopWord Removal"
   ]
  },
  {
   "cell_type": "code",
   "execution_count": 9,
   "metadata": {},
   "outputs": [],
   "source": [
    "from nltk.corpus import stopwords"
   ]
  },
  {
   "cell_type": "code",
   "execution_count": 10,
   "metadata": {},
   "outputs": [],
   "source": [
    "sw = set(stopwords.words('english'))"
   ]
  },
  {
   "cell_type": "code",
   "execution_count": 11,
   "metadata": {},
   "outputs": [
    {
     "name": "stdout",
     "output_type": "stream",
     "text": [
      "{'all', 'what', 'from', \"isn't\", 'no', 'when', 'themselves', 'or', 'up', 'this', 'with', 'in', 'while', 'for', 'you', 'y', 'some', \"that'll\", 's', \"mightn't\", 'such', 'by', 'll', \"she's\", 'and', 'she', 'myself', 'of', 'whom', 'do', 'but', 'only', 'on', 'ain', 'haven', 'yourself', 'so', 'is', 'more', 'am', 'same', 'to', 'then', 'm', 'after', \"you'll\", 'can', 'at', \"you're\", \"haven't\", 'isn', 'o', 'don', 'other', 're', 'if', \"won't\", 'hers', 'has', 'further', 'he', 'mightn', \"don't\", 'ourselves', \"wouldn't\", 'because', 'that', 'it', \"doesn't\", 'd', 'over', 'your', 'were', 'during', 'his', 'about', \"weren't\", 'out', 'below', 'are', 'few', 'not', 'did', 'aren', 'ours', 'itself', 'i', \"couldn't\", 'both', 'down', \"wasn't\", 'yours', 'than', 'yourselves', 'weren', \"you'd\", 'against', 'how', 'its', 'himself', 'mustn', 'they', 'too', \"hadn't\", 'being', \"hasn't\", \"it's\", 'these', 'having', 'me', 'been', 'ma', 'wouldn', 'had', 'theirs', 'couldn', 'we', 'be', \"mustn't\", 'them', 'most', 'now', \"aren't\", 'was', \"didn't\", 'have', 'a', 'there', 'didn', 'why', 'who', 'shouldn', 'under', \"shan't\", 'him', \"shouldn't\", 'the', 'each', \"should've\", 'any', 'my', 'won', 'hasn', 'here', 'where', 'doesn', \"you've\", 'through', 'above', 'again', 'herself', 'our', 'doing', 'between', 'wasn', 'their', 'her', 'does', 'those', 'shan', \"needn't\", 'very', 'off', 'hadn', 'once', 'will', 've', 'until', 't', 'which', 'nor', 'an', 'before', 'into', 'needn', 'just', 'as', 'should', 'own'} 179\n"
     ]
    }
   ],
   "source": [
    "print(sw,len(sw))"
   ]
  },
  {
   "cell_type": "code",
   "execution_count": 12,
   "metadata": {},
   "outputs": [],
   "source": [
    "def filter_words(word_list):\n",
    "    useful_words= [words for words in word_list if words in sw]\n",
    "    return useful_words"
   ]
  },
  {
   "cell_type": "code",
   "execution_count": 13,
   "metadata": {},
   "outputs": [
    {
     "name": "stdout",
     "output_type": "stream",
     "text": [
      "['it', 'was', 'a', 'very', 'until', 'you', 'up', 'and', 'it']\n"
     ]
    }
   ],
   "source": [
    "useful_words= filter_words(word_list)\n",
    "print(useful_words)"
   ]
  },
  {
   "cell_type": "code",
   "execution_count": 14,
   "metadata": {},
   "outputs": [],
   "source": [
    "from nltk.tokenize import RegexpTokenizer"
   ]
  },
  {
   "cell_type": "code",
   "execution_count": 15,
   "metadata": {},
   "outputs": [],
   "source": [
    "tokenizer = RegexpTokenizer(\"[a-z0-9]+\")"
   ]
  },
  {
   "cell_type": "code",
   "execution_count": 16,
   "metadata": {},
   "outputs": [
    {
     "name": "stdout",
     "output_type": "stream",
     "text": [
      "['send', 'the', '50', 'documents', 'to', 'abc', 'def', 'ghi']\n"
     ]
    }
   ],
   "source": [
    "sents = \"send the 50 documents to abc,def,ghi .\"\n",
    "print(tokenizer.tokenize(sents))"
   ]
  },
  {
   "cell_type": "markdown",
   "metadata": {},
   "source": [
    "# Stemming\n",
    "- Process that transforms particular words into root words\n",
    "-examples jumping,jumps,jumped -> jump"
   ]
  },
  {
   "cell_type": "code",
   "execution_count": 17,
   "metadata": {},
   "outputs": [],
   "source": [
    "text = \"the quick brown fox jumps over the lazy dog from high wall.Foxes loves to  make jump\""
   ]
  },
  {
   "cell_type": "code",
   "execution_count": 18,
   "metadata": {},
   "outputs": [],
   "source": [
    "word_list = tokenizer.tokenize(text.lower())"
   ]
  },
  {
   "cell_type": "code",
   "execution_count": 19,
   "metadata": {},
   "outputs": [
    {
     "name": "stdout",
     "output_type": "stream",
     "text": [
      "['the', 'quick', 'brown', 'fox', 'jumps', 'over', 'the', 'lazy', 'dog', 'from', 'high', 'wall', 'foxes', 'loves', 'to', 'make', 'jump']\n"
     ]
    }
   ],
   "source": [
    "print(word_list)"
   ]
  },
  {
   "cell_type": "markdown",
   "metadata": {},
   "source": [
    "# Type of Stemmer\n",
    "- Snowball Stemmer(mutlilingual)\n",
    "- Porter Stemmer\n",
    "- Lancaster Stemmer"
   ]
  },
  {
   "cell_type": "code",
   "execution_count": 20,
   "metadata": {},
   "outputs": [],
   "source": [
    "from nltk.stem.snowball import PorterStemmer,SnowballStemmer\n",
    "from nltk.stem.lancaster import LancasterStemmer"
   ]
  },
  {
   "cell_type": "code",
   "execution_count": 21,
   "metadata": {},
   "outputs": [],
   "source": [
    "ps = PorterStemmer()\n",
    "ls = LancasterStemmer()\n",
    "ss = SnowballStemmer(\"french\")"
   ]
  },
  {
   "cell_type": "code",
   "execution_count": 22,
   "metadata": {},
   "outputs": [
    {
     "data": {
      "text/plain": [
       "'jump'"
      ]
     },
     "execution_count": 22,
     "metadata": {},
     "output_type": "execute_result"
    }
   ],
   "source": [
    "ps.stem(\"jumped\")"
   ]
  },
  {
   "cell_type": "code",
   "execution_count": 23,
   "metadata": {},
   "outputs": [
    {
     "data": {
      "text/plain": [
       "'jump'"
      ]
     },
     "execution_count": 23,
     "metadata": {},
     "output_type": "execute_result"
    }
   ],
   "source": [
    "ps.stem(\"jumping\")"
   ]
  },
  {
   "cell_type": "code",
   "execution_count": 24,
   "metadata": {},
   "outputs": [
    {
     "data": {
      "text/plain": [
       "'love'"
      ]
     },
     "execution_count": 24,
     "metadata": {},
     "output_type": "execute_result"
    }
   ],
   "source": [
    "ps.stem(\"lovely\")"
   ]
  },
  {
   "cell_type": "code",
   "execution_count": 25,
   "metadata": {},
   "outputs": [
    {
     "name": "stdout",
     "output_type": "stream",
     "text": [
      "teen\n",
      "teenag\n"
     ]
    }
   ],
   "source": [
    "ps.stem(\"awesome\")\n",
    "ls.stem(\"awesome\")\n",
    "\n",
    "print(ls.stem(\"teenager\"))\n",
    "print(ps.stem(\"teenager\"))"
   ]
  },
  {
   "cell_type": "code",
   "execution_count": null,
   "metadata": {},
   "outputs": [],
   "source": []
  }
 ],
 "metadata": {
  "kernelspec": {
   "display_name": "Python 3",
   "language": "python",
   "name": "python3"
  },
  "language_info": {
   "codemirror_mode": {
    "name": "ipython",
    "version": 3
   },
   "file_extension": ".py",
   "mimetype": "text/x-python",
   "name": "python",
   "nbconvert_exporter": "python",
   "pygments_lexer": "ipython3",
   "version": "3.8.5"
  }
 },
 "nbformat": 4,
 "nbformat_minor": 4
}
